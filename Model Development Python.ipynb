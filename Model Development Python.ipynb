{
 "cells": [
  {
   "cell_type": "code",
   "execution_count": null,
   "metadata": {},
   "outputs": [],
   "source": [
    "#Module 4: Model Development\n",
    "\n",
    "#In this section, we will develop several models that will predict the price of the car using the variables or features.\n",
    "#This is just an estimate but should give us an objective idea of how much the car should cost.\n",
    "\n",
    "#Some questions we want to ask in this module\n",
    "\n",
    "    #do I know if the dealer is offering fair value for my trade-in?\n",
    "    #do I know if I put a fair value on my car?\n",
    "\n",
    "#Data Analytics, we often use Model Development to help us predict future observations from the data we have.\n",
    "\n",
    "#A Model will help us understand the exact relationship between different variables and how these variables are used to predict the result.\n",
    "\n",
    "\n",
    "#Setup\n",
    "\n",
    "#Import Libraries\n",
    "\n",
    "import pandas as pd\n",
    "import numpy as np\n",
    "import matplotlib.pyplot as plt"
   ]
  },
  {
   "cell_type": "code",
   "execution_count": null,
   "metadata": {},
   "outputs": [],
   "source": [
    "#Load data and store in dataframe df:\n",
    "\n",
    "# path of data \n",
    "path = 'https://s3-api.us-geo.objectstorage.softlayer.net/cf-courses-data/CognitiveClass/DA0101EN/automobileEDA.csv'\n",
    "df = pd.read_csv(path)\n",
    "df.head()"
   ]
  },
  {
   "cell_type": "code",
   "execution_count": null,
   "metadata": {},
   "outputs": [],
   "source": [
    "#Linear Regression and Multiple Linear Regression\n",
    "\n",
    "#Linear Regression\n",
    "\n",
    "\n",
    "#One example of a Data  Model that we will be using is\n",
    "#Simple Linear Regression.\n",
    "\n",
    "#Simple Linear Regression is a method to help us understand the relationship between two variables:\n",
    "\n",
    "    #The predictor/independent variable (X)\n",
    "    #The response/dependent variable (that we want to predict)(Y)\n",
    "\n",
    "#The result of Linear Regression is a linear function that predicts the response (dependent) variable as a function of the predictor (independent) variable.\n",
    "\n",
    "\n",
    "# Y: Response \\ Variable\\\\\n",
    "# X: Predictor \\ Variables\n",
    "\n",
    "#Linear Function\n",
    "    \n",
    "    #Yhat = a + bX\n",
    "    \n",
    "\n",
    "#a refers to the intercept of the regression line0, in other words: the value of Y when X is 0.\n",
    "#b refers to the slope of the regression line, in other words: the value with which Y changes when X increases by 1 unit\n",
    "\n",
    "\n",
    "#Lets load the modules for linear regression\n",
    "\n",
    "from sklearn.linear_model import LinearRegression"
   ]
  },
  {
   "cell_type": "code",
   "execution_count": null,
   "metadata": {},
   "outputs": [],
   "source": [
    "#Create the Linear Regression Object\n",
    "\n",
    "lm = LinearRegression()\n",
    "lm"
   ]
  },
  {
   "cell_type": "code",
   "execution_count": null,
   "metadata": {},
   "outputs": [],
   "source": [
    "#How could Highway-mpg help us predict car price?\n",
    "\n",
    "#For this example, we want to look at how highway-mpg can help us predict car price.\n",
    "#Using simple linear regression, we will create a linear function with \"highway-mpg\" as the predictor variable and the \"price\" as the response variable.\n",
    "\n",
    "X = df[['highway-mpg']]\n",
    "Y = df['price']"
   ]
  },
  {
   "cell_type": "code",
   "execution_count": null,
   "metadata": {},
   "outputs": [],
   "source": [
    "#Fit the linear model using highway-mpg.\n",
    "\n",
    "lm.fit(X,Y)"
   ]
  },
  {
   "cell_type": "code",
   "execution_count": null,
   "metadata": {},
   "outputs": [],
   "source": [
    "#We can output a prediction\n",
    "\n",
    "Yhat=lm.predict(X)\n",
    "Yhat[0:5]   "
   ]
  },
  {
   "cell_type": "code",
   "execution_count": null,
   "metadata": {},
   "outputs": [],
   "source": [
    "#What is the value of the intercept (a)?\n",
    "\n",
    "lm.intercept_"
   ]
  },
  {
   "cell_type": "code",
   "execution_count": null,
   "metadata": {},
   "outputs": [],
   "source": [
    "#What is the value of the Slope(b)\n",
    "\n",
    "lm.coef_"
   ]
  },
  {
   "cell_type": "code",
   "execution_count": null,
   "metadata": {},
   "outputs": [],
   "source": [
    "#What is the final estimated linear model we get?\n",
    "\n",
    "#As we saw above, we should get a final linear model with the structure:\n",
    "\n",
    "                    #Yhat = a + bX\n",
    "\n",
    "    #Plugging in the actual values we get:\n",
    "\n",
    "#price = 38423.31 - 821.73 x  highway-mpg"
   ]
  },
  {
   "cell_type": "code",
   "execution_count": null,
   "metadata": {},
   "outputs": [],
   "source": [
    "#Question #1 a): \n",
    "\n",
    "#Create a linear regression object?\n",
    "\n",
    "lm1 = LinearRegression()"
   ]
  },
  {
   "cell_type": "code",
   "execution_count": null,
   "metadata": {},
   "outputs": [],
   "source": [
    "#Question #1 b):\n",
    "\n",
    "#Train the model using 'engine-size' as the independent variable and 'price' as the dependent variable?\n",
    "\n",
    "# Write your code below and press Shift+Enter to execute \n",
    "A = df[['engine-size']]\n",
    "B = df[['price']]\n",
    "\n",
    "lm1.fit(A,B)"
   ]
  },
  {
   "cell_type": "code",
   "execution_count": null,
   "metadata": {},
   "outputs": [],
   "source": [
    "#Question #1 c):\n",
    "\n",
    "#Find the slope and intercept of the model?\n",
    "\n",
    "#Slope\n",
    "\n",
    "lm1.coef_\n",
    "\n",
    "#Intercept\n",
    "\n",
    "lm1.intercept_"
   ]
  },
  {
   "cell_type": "code",
   "execution_count": null,
   "metadata": {},
   "outputs": [],
   "source": [
    "#Question #1 d):\n",
    "\n",
    "#What is the equation of the predicted line. You can use x and yhat or 'engine-size' or 'price'?\n",
    "\n",
    "yhat = -7963.33890628 + 166.86001569*X"
   ]
  },
  {
   "cell_type": "code",
   "execution_count": null,
   "metadata": {},
   "outputs": [],
   "source": [
    "#Multiple Linear Regression\n",
    "\n",
    "#What if we want to predict car price using more than one variable?\n",
    "\n",
    "#If we want to use more variables in our model to predict car price, we can use <b>Multiple Linear Regression.\n",
    "#Multiple Linear Regression is very similar to Simple Linear Regression, but this method is used to explain the relationship between one continuous response (dependent) variable and <b>two or more</b> predictor (independent) variables.\n",
    "#Most of the real-world regression models involve multiple predictors. We will illustrate the structure by using four predictor variables, but these results can generalize to any integer:\n",
    "\n",
    "\n",
    "#Y: Response \\ Variable\\\\\n",
    "#X_1 :Predictor\\ Variable \\ 1\\\\\n",
    "#X_2: Predictor\\ Variable \\ 2\\\\\n",
    "#X_3: Predictor\\ Variable \\ 3\\\\\n",
    "#X_4: Predictor\\ Variable \\ 4\\\\\n",
    "\n",
    "#a: intercept\\\\\n",
    "#b_1 :coefficients \\ of\\ Variable \\ 1\\\\\n",
    "#b_2: coefficients \\ of\\ Variable \\ 2\\\\\n",
    "#b_3: coefficients \\ of\\ Variable \\ 3\\\\\n",
    "#b_4: coefficients \\ of\\ Variable \\ 4\\\\\n",
    "\n",
    "#The equation is given by\n",
    "\n",
    "               #Yhat = a + b_1 X_1 + b_2 X_2 + b_3 X_3 + b_4 X_4\n",
    "    \n",
    "#From the previous section  we know that other good predictors of price could be:\n",
    "\n",
    "    #Horsepower\n",
    "    #Curb-weight\n",
    "    #Engine-size\n",
    "    #Highway-mpg\n",
    "\n",
    "#Let's develop a model using these variables as the predictor variables.\n",
    "\n",
    "Z = df[['horsepower', 'curb-weight', 'engine-size', 'highway-mpg']]"
   ]
  },
  {
   "cell_type": "code",
   "execution_count": null,
   "metadata": {},
   "outputs": [],
   "source": [
    "#Fit the linear model using the four above-mentioned variables.\n",
    "\n",
    "lm.fit(Z, df['price'])"
   ]
  },
  {
   "cell_type": "code",
   "execution_count": null,
   "metadata": {},
   "outputs": [],
   "source": [
    "#What is the value of the intercept(a)?\n",
    "\n",
    "lm.intercept_\n",
    "\n",
    "#What are the values of the coefficients (b1, b2, b3, b4)?\n",
    "\n",
    "lm.coef_"
   ]
  },
  {
   "cell_type": "code",
   "execution_count": null,
   "metadata": {},
   "outputs": [],
   "source": [
    "# What is the final estimated linear model that we get?\n",
    "\n",
    "#As we saw above, we should get a final linear function with the structure:\n",
    "    \n",
    "#Yhat = a + b_1 X_1 + b_2 X_2 + b_3 X_3 + b_4 X_4\n",
    "\n",
    "#What is the linear function we get in this example?\n",
    "\n",
    "#Price = -15678.742628061467 + 52.65851272 x horsepower + \n",
    "#4.69878948 x curb-weight + 81.95906216 x engine-size\n",
    "#+ 33.58258185 x highway-mpg"
   ]
  },
  {
   "cell_type": "code",
   "execution_count": null,
   "metadata": {},
   "outputs": [],
   "source": [
    "#Question  #2 a):\n",
    "\n",
    "#Create and train a Multiple Linear Regression model \"lm2\" where the response variable is price, and the predictor variable is 'normalized-losses' and  'highway-mpg'.\n",
    "\n",
    "# Write your code below and press Shift+Enter to execute *****\n",
    "lm2 = LinearRegression()\n",
    "\n",
    "lm2.fit(df[['normalized-losses', 'highway-mpg']], df[['price']])"
   ]
  },
  {
   "cell_type": "code",
   "execution_count": null,
   "metadata": {},
   "outputs": [],
   "source": [
    "#Question  #2 b):\n",
    "\n",
    "#Find the coefficient of the model?\n",
    "\n",
    "lm2.coef_"
   ]
  },
  {
   "cell_type": "code",
   "execution_count": null,
   "metadata": {},
   "outputs": [],
   "source": [
    "#Model Evaluation using Visualization\n",
    "\n",
    "#Now that we've developed some models, how do we evaluate our models and how do we choose the best one? \n",
    "#One way to do this is by using visualization.\n",
    "\n",
    "#Import the visualization package: seaborn\n",
    "\n",
    "# import the visualization package: seaborn\n",
    "import seaborn as sns\n",
    "%matplotlib inline"
   ]
  },
  {
   "cell_type": "code",
   "execution_count": null,
   "metadata": {},
   "outputs": [],
   "source": [
    "#When it comes to simple linear regression, an excellent way to visualize the fit of our model is by using regression plots.\n",
    "\n",
    "#This plot will show a combination of a scattered data points (a scatter plot), as well as the fitted linear regression line going through the data.\n",
    "#This will give us a reasonable estimate of the relationship between the two variables, the strength of the correlation, as well as the direction (positive or negative correlation).\n",
    "\n",
    "# Let's visualize Horsepower as potential predictor variable of price:\n",
    "\n",
    "width = 12\n",
    "height = 10\n",
    "plt.figure(figsize=(width, height))\n",
    "sns.regplot(x=\"highway-mpg\", y=\"price\", data=df)\n",
    "plt.ylim(0,)"
   ]
  },
  {
   "cell_type": "code",
   "execution_count": null,
   "metadata": {},
   "outputs": [],
   "source": [
    "#We can see from this plot that price is negatively correlated to highway-mpg, since the regression slope is negative.\n",
    "#One thing to keep in mind when looking at a regression plot is to pay attention to how scattered the data points are around the regression line.\n",
    "#This will give you a good indication of the variance of the data, and whether a linear model would be the best fit or not. If the data is too far off from the line,\n",
    "#this linear model might not be the best model for this data. Let's compare this plot to the regression plot of \"peak-rpm\".\n",
    "\n",
    "plt.figure(figsize=(width, height))\n",
    "sns.regplot(x=\"peak-rpm\", y=\"price\", data=df)\n",
    "plt.ylim(0,)"
   ]
  },
  {
   "cell_type": "code",
   "execution_count": null,
   "metadata": {},
   "outputs": [],
   "source": [
    "#Comparing the regression plot of \"peak-rpm\" and \"highway-mpg\" we see that the points for \"highway-mpg\" are much closer to the generated line and on the average decrease. The points for \"peak-rpm\" have more spread around the predicted line, and it is much harder to determine if the points are decreasing or increasing as the \"highway-mpg\" increases."
   ]
  },
  {
   "cell_type": "code",
   "execution_count": null,
   "metadata": {},
   "outputs": [],
   "source": [
    "#Question #3:\n",
    "\n",
    "#Given the regression plots above is \"peak-rpm\" or \"highway-mpg\" more strongly correlated with \"price\". Use the method  \".corr()\" to verify your answer.\n",
    "\n",
    "# Write your code below and press Shift+Enter to execute \n",
    "df_test1 = df[['peak-rpm' , 'highway-mpg', 'price']]\n",
    "df_test1.corr()"
   ]
  },
  {
   "cell_type": "code",
   "execution_count": null,
   "metadata": {},
   "outputs": [],
   "source": [
    "#Residual Plot\n",
    "\n",
    "#A good way to visualize the variance of the data is to use a residual plot.\n",
    "\n",
    "#What is a <b>residual?\n",
    "\n",
    "#The difference between the observed value (y) and the predicted value (Yhat) is called the residual (e). \n",
    "#When we look at a regression plot, the residual is the distance from the data point to the fitted regression line.\n",
    "\n",
    "#So what is a <b>residual plot?\n",
    "\n",
    "#A residual plot is a graph that shows the residuals on the vertical y-axis and the independent variable on the horizontal x-axis.\n",
    "\n",
    "#What do we pay attention to when looking at a residual plot?\n",
    "\n",
    "#We look at the spread of the residuals:\n",
    "\n",
    "#- If the points in a residual plot are randomly spread out around the x-axis</b>, then a <b>linear model is appropriate</b> for the data. Why is that?\n",
    "#Randomly spread out residuals means that the variance is constant, and thus the linear model is a good fit for this data.\n",
    "\n",
    "width = 12\n",
    "height = 10\n",
    "plt.figure(figsize=(width, height))\n",
    "sns.residplot(df['highway-mpg'], df['price'])\n",
    "plt.show()"
   ]
  },
  {
   "cell_type": "code",
   "execution_count": null,
   "metadata": {},
   "outputs": [],
   "source": [
    "#What is this plot telling us?\n",
    "\n",
    "#We can see from this residual plot that the residuals are not randomly spread around the x-axis, \n",
    "#which leads us to believe that maybe a non-linear model is more appropriate for this data.\n",
    "\n",
    "\n",
    "#Multiple Linear Regression\n",
    "\n",
    "#How do we visualize a model for Multiple Linear Regression? This gets a bit more complicated because you can't visualize it with regression or residual plot.</p>\n",
    "\n",
    "#One way to look at the fit of the model is by looking at the <b>distribution plot</b>: We can look at the distribution of the fitted values that result from the model and compare it to the distribution of the actual values.\n",
    "\n",
    "#First lets make a prediction\n",
    "\n",
    "Y_hat = lm.predict(Z)\n",
    "\n",
    "plt.figure(figsize=(width, height))\n",
    "\n",
    "\n",
    "ax1 = sns.distplot(df['price'], hist=False, color=\"r\", label=\"Actual Value\")\n",
    "sns.distplot(Yhat, hist=False, color=\"b\", label=\"Fitted Values\" , ax=ax1)\n",
    "\n",
    "\n",
    "plt.title('Actual vs Fitted Values for Price')\n",
    "plt.xlabel('Price (in dollars)')\n",
    "plt.ylabel('Proportion of Cars')\n",
    "\n",
    "plt.show()\n",
    "plt.close()"
   ]
  },
  {
   "cell_type": "code",
   "execution_count": null,
   "metadata": {},
   "outputs": [],
   "source": [
    "#We can see that the fitted values are reasonably close to the actual values, since the two distributions overlap a bit. \n",
    "#However, there is definitely some room for improvement."
   ]
  },
  {
   "cell_type": "code",
   "execution_count": null,
   "metadata": {},
   "outputs": [],
   "source": [
    "#Part 3: Polynomial Regression and Pipelines\n",
    "\n",
    "#Polynomial regression is a particular case of the general linear regression model or multiple linear regression models.\n",
    "#We get non-linear relationships by squaring or setting higher-order terms of the predictor variables.\n",
    "\n",
    "#There are different orders of polynomial regression:\n",
    "\n",
    "#Quadratic - 2nd order\n",
    "#Yhat = a + b_1 X^2 +b_2 X^2 \n",
    "\n",
    "#Cubic - 3rd order\n",
    "\n",
    "#Yhat = a + b_1 X^2 +b_2 X^2 +b_3 X^3\\\\\n",
    "\n",
    "#Higher order:\n",
    "\n",
    "#Y = a + b_1 X^2 +b_2 X^2 +b_3 X^3 ....\\\\\n",
    "\n",
    "#We saw earlier that a linear model did not provide the best fit while using highway-mpg as the predictor variable.\n",
    "#Let's see if we can try fitting a polynomial model to the data instead.\n",
    "\n",
    "#We will use the following function to plot the data\n",
    "\n",
    "def PlotPolly(model, independent_variable, dependent_variabble, Name):\n",
    "    x_new = np.linspace(15, 55, 100)\n",
    "    y_new = model(x_new)\n",
    "\n",
    "    plt.plot(independent_variable, dependent_variabble, '.', x_new, y_new, '-')\n",
    "    plt.title('Polynomial Fit with Matplotlib for Price ~ Length')\n",
    "    ax = plt.gca()\n",
    "    ax.set_facecolor((0.898, 0.898, 0.898))\n",
    "    fig = plt.gcf()\n",
    "    plt.xlabel(Name)\n",
    "    plt.ylabel('Price of Cars')\n",
    "\n",
    "    plt.show()\n",
    "    plt.close()"
   ]
  },
  {
   "cell_type": "code",
   "execution_count": null,
   "metadata": {},
   "outputs": [],
   "source": [
    "#lets get the variables\n",
    "\n",
    "x = df['highway-mpg']\n",
    "y = df['price']"
   ]
  },
  {
   "cell_type": "code",
   "execution_count": null,
   "metadata": {},
   "outputs": [],
   "source": [
    "#Let's fit the polynomial using the function polyfit, then use the function poly1d to display the polynomial function.\n",
    "\n",
    "# Here we use a polynomial of the 3rd order (cubic) \n",
    "f = np.polyfit(x, y, 3)\n",
    "p = np.poly1d(f)\n",
    "print(p)"
   ]
  },
  {
   "cell_type": "code",
   "execution_count": null,
   "metadata": {},
   "outputs": [],
   "source": [
    "#Lets plot the function\n",
    "\n",
    "PlotPolly(p, x, y, 'highway-mpg')"
   ]
  },
  {
   "cell_type": "code",
   "execution_count": null,
   "metadata": {},
   "outputs": [],
   "source": [
    "np.polyfit(x, y, 3)\n",
    "\n",
    "#We can already see from plotting that this polynomial model performs better than the linear model.\n",
    "#This is because the generated polynomial function  \"hits\" more of the data points."
   ]
  },
  {
   "cell_type": "code",
   "execution_count": null,
   "metadata": {},
   "outputs": [],
   "source": [
    "#Question  #4:\n",
    "\n",
    "#Create 11 order polynomial model with the variables x and y from above?\n",
    "\n",
    "# Write your code below and press Shift+Enter to execute \n",
    "g = np.polyfit(x,y,11)\n",
    "o = np.poly1d(g)\n",
    "print(o)"
   ]
  },
  {
   "cell_type": "code",
   "execution_count": null,
   "metadata": {},
   "outputs": [],
   "source": [
    "#The analytical expression for Multivariate Polynomial function gets complicated. \n",
    "#For example, the expression for a second-order (degree=2)polynomial with two variables is given by:\n",
    "\n",
    "#Yhat = a + b_1 X_1 +b_2 X_2 +b_3 X_1 X_2+b_4 X_1^2+b_5 X_2^2\n",
    "\n",
    "#We can perform a polynomial transform on multiple features. First, we import the module:\n",
    "\n",
    "from sklearn.preprocessing import PolynomialFeatures"
   ]
  },
  {
   "cell_type": "code",
   "execution_count": null,
   "metadata": {},
   "outputs": [],
   "source": [
    "#We create a PolynomialFeatures object of degree 2: \n",
    "\n",
    "pr=PolynomialFeatures(degree=2)\n",
    "pr\n",
    "\n",
    "Z_pr=pr.fit_transform(Z)"
   ]
  },
  {
   "cell_type": "code",
   "execution_count": null,
   "metadata": {},
   "outputs": [],
   "source": [
    "#The original data is of 201 samples and 4 features \n",
    "\n",
    "Z.shape"
   ]
  },
  {
   "cell_type": "code",
   "execution_count": null,
   "metadata": {},
   "outputs": [],
   "source": [
    "#after the transformation, there 201 samples and 15 features\n",
    "\n",
    "Z_pr.shape"
   ]
  },
  {
   "cell_type": "code",
   "execution_count": null,
   "metadata": {},
   "outputs": [],
   "source": [
    "#Pipeline\n",
    "\n",
    "#Data Pipelines simplify the steps of processing the data.\n",
    "#We use the module Pipeline to create a pipeline. We also use StandardScaler as a step in our pipeline.\n",
    "\n",
    "from sklearn.pipeline import Pipeline\n",
    "from sklearn.preprocessing import StandardScaler"
   ]
  },
  {
   "cell_type": "code",
   "execution_count": null,
   "metadata": {},
   "outputs": [],
   "source": [
    "#We create the pipeline, by creating a list of tuples including the name of the model or estimator and its corresponding constructor.\n",
    "\n",
    "Input=[('scale',StandardScaler()), ('polynomial', PolynomialFeatures(include_bias=False)), ('model',LinearRegression())]"
   ]
  },
  {
   "cell_type": "code",
   "execution_count": null,
   "metadata": {},
   "outputs": [],
   "source": [
    "#we input the list as an argument to the pipeline constructor\n",
    "\n",
    "pipe=Pipeline(Input)\n",
    "pipe"
   ]
  },
  {
   "cell_type": "code",
   "execution_count": null,
   "metadata": {},
   "outputs": [],
   "source": [
    "#We can normalize the data,  perform a transform and fit the model simultaneously. \n",
    "\n",
    "pipe.fit(Z,y)"
   ]
  },
  {
   "cell_type": "code",
   "execution_count": null,
   "metadata": {},
   "outputs": [],
   "source": [
    "#Similarly,  we can normalize the data, perform a transform and produce a prediction  simultaneously\n",
    "\n",
    "ypipe=pipe.predict(Z)\n",
    "ypipe[0:4]"
   ]
  },
  {
   "cell_type": "code",
   "execution_count": null,
   "metadata": {},
   "outputs": [],
   "source": [
    "#Question #5:\n",
    "\n",
    "#Create a pipeline that Standardizes the data, then perform prediction using a linear regression model using the features Z and targets y\n",
    "\n",
    "# Write your code below and press Shift+Enter to execute \n",
    "from sklearn.pipeline import Pipeline\n",
    "\n",
    "Input1 = [('scale', StandardScaler()), ('model', LinearRegression())]\n",
    "pipe = Pipeline(Input1)\n",
    "\n",
    "pipe.fit(Z,y)\n",
    "\n",
    "zpipe=pipe.predict(Z)\n",
    "zpipe[0:20]"
   ]
  },
  {
   "cell_type": "code",
   "execution_count": null,
   "metadata": {},
   "outputs": [],
   "source": [
    "#Part 4: Measures for In-Sample Evaluation\n",
    "\n",
    "#When evaluating our models, not only do we want to visualize the results, but we also want a quantitative measure to determine how accurate the model is.\n",
    "\n",
    "#Two very important measures that are often used in Statistics to determine the accuracy of a model are:\n",
    "\n",
    "    #R^2 / R-squared\n",
    "    #Mean Squared Error (MSE)\n",
    "    \n",
    "#R-squared\n",
    "\n",
    "#R squared, also known as the coefficient of determination, is a measure to indicate how close the data is to the fitted regression line.\n",
    "    \n",
    "The value of the R-squared is the percentage of variation of the response variable (y) that is explained by a linear model.\n",
    "\n",
    "\n",
    "\n",
    "#Mean Squared Error (MSE)\n",
    "\n",
    "#The Mean Squared Error measures the average of the squares of errors, that is, the difference between actual value (y) and the estimated value (ŷ).\n",
    "\n",
    "\n",
    "# Model 1: Simple Linear Regression\n",
    "\n",
    "#Let's calculate the R^2\n",
    "\n",
    "#highway_mpg_fit\n",
    "lm.fit(X, Y)\n",
    "# Find the R^2\n",
    "print('The R-square is: ', lm.score(X, Y))"
   ]
  },
  {
   "cell_type": "code",
   "execution_count": null,
   "metadata": {},
   "outputs": [],
   "source": [
    "#We can say that ~ 49.659% of the variation of the price is explained by this simple linear model \"horsepower_fit\".\n",
    "\n",
    "#Let's calculate the MSE\n",
    "\n",
    "#We can predict the output i.e., \"yhat\" using the predict method, where X is the input variable:\n",
    "\n",
    "Yhat=lm.predict(X)\n",
    "print('The output of the first four predicted value is: ', Yhat[0:4])"
   ]
  },
  {
   "cell_type": "code",
   "execution_count": null,
   "metadata": {},
   "outputs": [],
   "source": [
    "#lets import the function mean_squared_error from the module metrics\n",
    "\n",
    "from sklearn.metrics import mean_squared_error"
   ]
  },
  {
   "cell_type": "code",
   "execution_count": null,
   "metadata": {},
   "outputs": [],
   "source": [
    "#we compare the predicted results with the actual results \n",
    "\n",
    "mse = mean_squared_error(df['price'], Yhat)\n",
    "print('The mean square error of price and predicted value is: ', mse)"
   ]
  },
  {
   "cell_type": "code",
   "execution_count": null,
   "metadata": {},
   "outputs": [],
   "source": [
    "#Model 2 Multiple Linear Regression\n",
    "\n",
    "#Let's calculate the R^2\n",
    "\n",
    "# fit the model \n",
    "lm.fit(Z, df['price'])\n",
    "# Find the R^2\n",
    "print('The R-square is: ', lm.score(Z, df['price']))"
   ]
  },
  {
   "cell_type": "code",
   "execution_count": null,
   "metadata": {},
   "outputs": [],
   "source": [
    "#We can say that ~ 80.896 % of the variation of price is explained by this multiple linear regression \"multi_fit\".\n",
    "\n",
    "#Let's calculate the MSE\n",
    "\n",
    "#we produce a prediction\n",
    "\n",
    "Y_predict_multifit = lm.predict(Z)"
   ]
  },
  {
   "cell_type": "code",
   "execution_count": null,
   "metadata": {},
   "outputs": [],
   "source": [
    "# we compare the predicted results with the actual results \n",
    "\n",
    "print('The mean square error of price and predicted value using multifit is: ', \\\n",
    "      mean_squared_error(df['price'], Y_predict_multifit))"
   ]
  },
  {
   "cell_type": "code",
   "execution_count": null,
   "metadata": {},
   "outputs": [],
   "source": [
    "#Model 3: Polynomial Fit\n",
    "\n",
    "#let’s import the function r2_score from the module metrics as we are using a different function\n",
    "\n",
    "from sklearn.metrics import r2_score"
   ]
  },
  {
   "cell_type": "code",
   "execution_count": null,
   "metadata": {},
   "outputs": [],
   "source": [
    "#We apply the function to get the value of r^2\n",
    "\n",
    "r_squared = r2_score(y, p(x))\n",
    "print('The R-square value is: ', r_squared)"
   ]
  },
  {
   "cell_type": "code",
   "execution_count": null,
   "metadata": {},
   "outputs": [],
   "source": [
    "#We can say that ~ 67.419 % of the variation of price is explained by this polynomial fit"
   ]
  },
  {
   "cell_type": "code",
   "execution_count": null,
   "metadata": {},
   "outputs": [],
   "source": [
    "#MSE\n",
    "\n",
    "#We can also calculate the MSE\n",
    "\n",
    "mean_squared_error(df['price'], p(x))"
   ]
  },
  {
   "cell_type": "code",
   "execution_count": null,
   "metadata": {},
   "outputs": [],
   "source": [
    "#Part 5: Prediction and Decision Making\n",
    "#Prediction\n",
    "\n",
    "#In the previous section, we trained the model using the method fit. Now we will use the method predict to produce a prediction. \n",
    "#Lets import pyplot for plotting; we will also be using some functions from numpy.\n",
    "\n",
    "import matplotlib.pyplot as plt\n",
    "import numpy as np\n",
    "\n",
    "%matplotlib inline "
   ]
  },
  {
   "cell_type": "code",
   "execution_count": null,
   "metadata": {},
   "outputs": [],
   "source": [
    "#Create a new inpout\n",
    "\n",
    "new_input=np.arange(1, 100, 1).reshape(-1, 1)"
   ]
  },
  {
   "cell_type": "code",
   "execution_count": null,
   "metadata": {},
   "outputs": [],
   "source": [
    "#Fit the model\n",
    "\n",
    "lm.fit(X, Y)\n",
    "lm"
   ]
  },
  {
   "cell_type": "code",
   "execution_count": null,
   "metadata": {},
   "outputs": [],
   "source": [
    "#Produce a prediction\n",
    "\n",
    "yhat=lm.predict(new_input)\n",
    "yhat[0:5]"
   ]
  },
  {
   "cell_type": "code",
   "execution_count": null,
   "metadata": {},
   "outputs": [],
   "source": [
    "#we can plot the data\n",
    "\n",
    "plt.plot(new_input, yhat)\n",
    "plt.show()"
   ]
  },
  {
   "cell_type": "code",
   "execution_count": null,
   "metadata": {},
   "outputs": [],
   "source": [
    "#Decision Making: Determining a Good Model Fit\n",
    "\n",
    "#Now that we have visualized the different models, and generated the R-squared and MSE values for the fits, how do we determine a good model fit?\n",
    "\n",
    "    #hat is a good R-squared value?\n",
    "\n",
    "#hen comparing models, the model with the higher R-squared value is a better fit for the data.\n",
    "\n",
    "    #hat is a good MSE?\n",
    "\n",
    "#hen comparing models, the model with the smallest MSE value is a better fit for the data.\n",
    "\n",
    "\n",
    "#Let's take a look at the values for the different models.\n",
    "#Simple Linear Regression: Using Highway-mpg as a Predictor Variable of Price.\n",
    "\n",
    "    #R-squared: 0.49659118843391759\n",
    "    #MSE: 3.16 x10^7\n",
    "    \n",
    "#Multiple Linear Regression: Using Horsepower, Curb-weight, Engine-size, and Highway-mpg as Predictor Variables of Price.\n",
    " \n",
    "    #R-squared: 0.80896354913783497\n",
    "    #MSE: 1.2 x10^7\n",
    "    \n",
    "#Polynomial Fit: Using Highway-mpg as a Predictor Variable of Price.\n",
    "\n",
    "    #R-squared: 0.6741946663906514\n",
    "    #MSE: 2.05 x 10^7"
   ]
  },
  {
   "cell_type": "code",
   "execution_count": null,
   "metadata": {},
   "outputs": [],
   "source": [
    "#Simple Linear Regression model (SLR) vs Multiple Linear Regression model (MLR)\n",
    "\n",
    "#Usually, the more variables you have, the better your model is at predicting, but this is not always true. Sometimes you may not have enough data, you may run into numerical problems, or many of the variables may not be useful and or even act as noise. As a result, you should always check the MSE and R^2.\n",
    "\n",
    "#So to be able to compare the results of the MLR vs SLR models, we look at a combination of both the R-squared and MSE to make the best conclusion about the fit of the model.\n",
    "\n",
    "    #MSE The MSE of SLR is  3.16x10^7  while MLR has an MSE of 1.2 x10^7.  The MSE of MLR is much smaller.\n",
    "    #R-squared: In this case, we can also see that there is a big difference between the R-squared of the SLR and the R-squared of the MLR. The R-squared for the SLR (~0.497) is very small compared to the R-squared for the MLR (~0.809).\n",
    "\n",
    "#This R-squared in combination with the MSE show that MLR seems like the better model fit in this case, compared to SLR."
   ]
  },
  {
   "cell_type": "code",
   "execution_count": null,
   "metadata": {},
   "outputs": [],
   "source": [
    "#Simple Linear Model (SLR) vs Polynomial Fit\n",
    "\n",
    "    #MSE: We can see that Polynomial Fit brought down the MSE, since this MSE is smaller than the one from the SLR.\n",
    "    #R-squared: The R-squared for the Polyfit is larger than the R-squared for the SLR, so the Polynomial Fit also brought up the R-squared quite a bit.\n",
    "\n",
    "#Since the Polynomial Fit resulted in a lower MSE and a higher R-squared, we can conclude that this was a better fit model than the simple linear regression for predicting Price with Highway-mpg as a predictor variable."
   ]
  },
  {
   "cell_type": "code",
   "execution_count": null,
   "metadata": {},
   "outputs": [],
   "source": [
    "#Multiple Linear Regression (MLR) vs Polynomial Fit\n",
    "\n",
    "    #MSE: The MSE for the MLR is smaller than the MSE for the Polynomial Fit.\n",
    "    #R-squared: The R-squared for the MLR is also much larger than for the Polynomial Fit."
   ]
  },
  {
   "cell_type": "code",
   "execution_count": null,
   "metadata": {},
   "outputs": [],
   "source": [
    "#Conclusion\n",
    "\n",
    "#Comparing these three models, we conclude that the MLR model is the best model to be able to predict price from our dataset.\n",
    "#This result makes sense, since we have 27 variables in total, and we know that more than one of those variables are potential predictors of the final car price."
   ]
  }
 ],
 "metadata": {
  "kernelspec": {
   "display_name": "Python 3",
   "language": "python",
   "name": "python3"
  },
  "language_info": {
   "codemirror_mode": {
    "name": "ipython",
    "version": 3
   },
   "file_extension": ".py",
   "mimetype": "text/x-python",
   "name": "python",
   "nbconvert_exporter": "python",
   "pygments_lexer": "ipython3",
   "version": "3.7.3"
  }
 },
 "nbformat": 4,
 "nbformat_minor": 2
}
